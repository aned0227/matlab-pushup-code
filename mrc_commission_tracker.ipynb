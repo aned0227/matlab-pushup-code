{
  "cells": [
    {
      "cell_type": "markdown",
      "metadata": {
        "id": "view-in-github",
        "colab_type": "text"
      },
      "source": [
        "<a href=\"https://colab.research.google.com/github/aned0227/matlab-pushup-code/blob/main/mrc_commission_tracker.ipynb\" target=\"_parent\"><img src=\"https://colab.research.google.com/assets/colab-badge.svg\" alt=\"Open In Colab\"/></a>"
      ]
    },
    {
      "cell_type": "code",
      "source": [
        "!pip install XlsxWriter"
      ],
      "metadata": {
        "colab": {
          "base_uri": "https://localhost:8080/"
        },
        "id": "FxCpcB83jS7e",
        "outputId": "1d5d2c69-8163-4922-b334-076394af4baf"
      },
      "id": "FxCpcB83jS7e",
      "execution_count": null,
      "outputs": [
        {
          "output_type": "stream",
          "name": "stdout",
          "text": [
            "Collecting XlsxWriter\n",
            "  Downloading XlsxWriter-3.2.0-py3-none-any.whl (159 kB)\n",
            "\u001b[?25l     \u001b[90m━━━━━━━━━━━━━━━━━━━━━━━━━━━━━━━━━━━━━━━━\u001b[0m \u001b[32m0.0/159.9 kB\u001b[0m \u001b[31m?\u001b[0m eta \u001b[36m-:--:--\u001b[0m\r\u001b[2K     \u001b[90m━━━━━━━━━━━━━━━━━━━━━━━━━━━━━━━━━━━━━━━━\u001b[0m \u001b[32m159.9/159.9 kB\u001b[0m \u001b[31m4.6 MB/s\u001b[0m eta \u001b[36m0:00:00\u001b[0m\n",
            "\u001b[?25hInstalling collected packages: XlsxWriter\n",
            "Successfully installed XlsxWriter-3.2.0\n"
          ]
        }
      ]
    },
    {
      "cell_type": "code",
      "execution_count": null,
      "id": "78afeb6c",
      "metadata": {
        "id": "78afeb6c"
      },
      "outputs": [],
      "source": [
        "\n",
        "# Importing libraries and packages:\n",
        "from sklearn.neural_network import MLPClassifier\n",
        "\n",
        "from sklearn.model_selection import train_test_split\n",
        "from sklearn.model_selection import cross_val_score\n",
        "from sklearn.metrics import accuracy_score\n",
        "from sklearn import metrics\n",
        "import matplotlib.pyplot as plt\n",
        "import numpy as np\n",
        "import pandas as pd\n",
        "import calendar\n",
        "import re\n",
        "\n",
        "import os\n"
      ]
    },
    {
      "cell_type": "code",
      "source": [
        "\n",
        "# Initialize a dictionary to store the DataFrames\n",
        "dfs = {}\n",
        "\n",
        "# Get the list of all files in the current directory\n",
        "files = [f for f in os.listdir() if f.endswith('.csv')]  # Only CSVs\n",
        "\n",
        "# Sort files by month\n",
        "month_order = list(calendar.month_abbr)[1:]\n",
        "files.sort(key=lambda x: month_order.index(re.match(r\"([a-zA-Z]+)\", x, re.I).group(0)[:3].capitalize()))\n",
        "\n",
        "# Iterate over the sorted list of files and process each CSV file\n",
        "for file in files:\n",
        "\n",
        "    # Read the CSV file\n",
        "    df = pd.read_csv(file)\n",
        "\n",
        "    # Adding 'Notes' to data frame\n",
        "    df['Notes'] = pd.Series(dtype='float64')\n",
        "\n",
        "    # Possibly needed, but has not been in use as of 09/01/23\n",
        "    df['Brand'].replace({'Boost': 'Tn', 'Virgin': 'BTN'}, inplace=True)\n",
        "\n",
        "    mask = (df['Total Commissions to Date'] != 0) & (df['Deactivation Date'].isnull())& ~df['Base Plan'].str.contains('ACP', case=False)\n",
        "\n",
        "    filtered_df = df[mask]\n",
        "\n",
        "    condensed_df = filtered_df.loc[mask, ['Phone Number','Notes','Brand', '1st MRC Payment','2nd MRC Payment','3rd MRC Payment','4th MRC Payment']]\n",
        "\n",
        "    # Sort by '1st MRC Payment in ascending order'\n",
        "    condensed_df = condensed_df.sort_values(by=\"1st MRC Payment\")\n",
        "\n",
        "    # Store the DataFrame in the dictionary\n",
        "    dfs[file] = condensed_df\n",
        "\n",
        "# Accessing each DataFrame using the file name as the key\n",
        "for file_name, dataframe in dfs.items():\n",
        "    print(f\"File: {file_name}\")\n",
        "    print(dataframe.head())  # Print the first 5 rows of each DataFrame, as an example\n"
      ],
      "metadata": {
        "colab": {
          "base_uri": "https://localhost:8080/"
        },
        "id": "C4NliQceiDui",
        "outputId": "92802f7b-2955-4524-d05c-b4ab1ffa306c"
      },
      "id": "C4NliQceiDui",
      "execution_count": null,
      "outputs": [
        {
          "output_type": "stream",
          "name": "stdout",
          "text": [
            "File: jan20240304.csv\n",
            "      Phone Number  Notes Brand 1st MRC Payment 2nd MRC Payment  \\\n",
            "0   (562)-318-6112    NaN   BTN      01/03/2024      02/03/2024   \n",
            "31  (562)-329-7547    NaN   BTN      01/03/2024      02/03/2024   \n",
            "14  (562)-551-1863    NaN   BTN      01/03/2024      02/03/2024   \n",
            "38  (626)-466-8383    NaN   BTN      01/04/2024      02/04/2024   \n",
            "3   (626)-466-8386    NaN   BTN      01/04/2024      02/04/2024   \n",
            "\n",
            "    3rd MRC Payment  4th MRC Payment  \n",
            "0               NaN              NaN  \n",
            "31              NaN              NaN  \n",
            "14              NaN              NaN  \n",
            "38              NaN              NaN  \n",
            "3               NaN              NaN  \n",
            "File: feb20240304.csv\n",
            "      Phone Number  Notes Brand 1st MRC Payment  2nd MRC Payment  \\\n",
            "3   (562)-332-7361    NaN   BTN      02/02/2024              NaN   \n",
            "7   (562)-309-3316    NaN   BTN      02/04/2024              NaN   \n",
            "14  (562)-273-0682    NaN   BTN      02/05/2024              NaN   \n",
            "0   (562)-328-6744    NaN   BTN      02/06/2024              NaN   \n",
            "6   (562)-332-5730    NaN   BTN      02/07/2024              NaN   \n",
            "\n",
            "    3rd MRC Payment  4th MRC Payment  \n",
            "3               NaN              NaN  \n",
            "7               NaN              NaN  \n",
            "14              NaN              NaN  \n",
            "0               NaN              NaN  \n",
            "6               NaN              NaN  \n",
            "File: nov20240304.csv\n",
            "      Phone Number  Notes Brand 1st MRC Payment 2nd MRC Payment  \\\n",
            "48  (562)-576-4357    NaN   BTN      11/01/2023      12/01/2023   \n",
            "1   (213)-200-1638    NaN   BTN      11/02/2023      12/13/2023   \n",
            "31  (562)-273-8833    NaN   BTN      11/02/2023      12/13/2023   \n",
            "30  (213)-200-1725    NaN   BTN      11/02/2023      12/13/2023   \n",
            "27  (213)-200-5639    NaN   BTN      11/02/2023      12/13/2023   \n",
            "\n",
            "   3rd MRC Payment 4th MRC Payment  \n",
            "48      01/01/2024      02/01/2024  \n",
            "1       01/14/2024      02/14/2024  \n",
            "31      01/14/2024      02/14/2024  \n",
            "30      01/14/2024      02/14/2024  \n",
            "27      01/14/2024      02/14/2024  \n",
            "File: dec20240304.csv\n",
            "      Phone Number  Notes Brand 1st MRC Payment 2nd MRC Payment  \\\n",
            "30  (562)-201-3349    NaN   BTN      12/01/2023      01/01/2024   \n",
            "7   (562)-329-2133    NaN   BTN      12/02/2023      02/06/2024   \n",
            "13  (562)-325-9564    NaN   BTN      12/02/2023      01/05/2024   \n",
            "36  (562)-762-1851    NaN   BTN      12/05/2023      01/05/2024   \n",
            "8   (562)-639-1938    NaN   BTN      12/05/2023      12/30/2023   \n",
            "\n",
            "   3rd MRC Payment 4th MRC Payment  \n",
            "30      02/01/2024      03/01/2024  \n",
            "7              NaN             NaN  \n",
            "13      02/05/2024             NaN  \n",
            "36      02/06/2024             NaN  \n",
            "8       02/05/2024             NaN  \n"
          ]
        }
      ]
    },
    {
      "cell_type": "code",
      "execution_count": null,
      "id": "931b628b",
      "metadata": {
        "id": "931b628b"
      },
      "outputs": [],
      "source": [
        "\n",
        "# def used to manipulate dataframe to create, manipulate and store modified dataframe\n",
        "def MRC(target_month, df):\n",
        "    processed_dfs = {}\n",
        "\n",
        "    '''second MR is next'''\n",
        "    mask = (df['2nd MRC Payment'].isnull()) & (df['3rd MRC Payment'].isnull())\n",
        "    mrc2_df = df.loc[mask, ['Phone Number','Notes','Brand', '1st MRC Payment','2nd MRC Payment']]\n",
        "    mrc2_df['1st MRC Payment'] = pd.to_datetime(mrc2_df['1st MRC Payment'], format='%m/%d/%Y')\n",
        "    mrc2_df['2nd MRC Payment'] = mrc2_df['1st MRC Payment'] + pd.Timedelta(days=48) # adding 48 days to 1st mrc to determine 2nd mr\n",
        "    mrc2_df['2nd MRC Payment'] = mrc2_df['2nd MRC Payment'].dt.strftime('%m/%d/%Y')\n",
        "    mrc2_df['1st MRC Payment'] = mrc2_df['1st MRC Payment'].dt.strftime('%m/%d/%Y')\n",
        "\n",
        "    ''' third MR is next '''\n",
        "    mask = (df['2nd MRC Payment'].notnull()) & (df['3rd MRC Payment'].isnull())\n",
        "    mrc3_df = df.loc[mask, ['Phone Number','Notes','Brand', '1st MRC Payment','2nd MRC Payment', '3rd MRC Payment']]\n",
        "    mrc3_df['1st MRC Payment'] = pd.to_datetime(mrc3_df['1st MRC Payment'], format='%m/%d/%Y')\n",
        "    mrc3_df['3rd MRC Payment'] = mrc3_df['1st MRC Payment'] + pd.Timedelta(days=96) # adding 96 days to 1st mrc to determine 3rd mr\n",
        "    mrc3_df['3rd MRC Payment'] = mrc3_df['3rd MRC Payment'].dt.strftime('%m/%d/%Y')\n",
        "    mrc3_df['1st MRC Payment'] = mrc3_df['1st MRC Payment'].dt.strftime('%m/%d/%Y')\n",
        "\n",
        "    ''' fourth MR is next '''\n",
        "    mask = (df['3rd MRC Payment'].notnull()) & (df['4th MRC Payment'].isnull())\n",
        "    mrc4_df = df.loc[mask, ['Phone Number','Notes','Brand', '1st MRC Payment','2nd MRC Payment', '3rd MRC Payment', '4th MRC Payment']]\n",
        "    mrc4_df['1st MRC Payment'] = pd.to_datetime(mrc4_df['1st MRC Payment'], format='%m/%d/%Y')\n",
        "    mrc4_df['4th MRC Payment'] = mrc4_df['1st MRC Payment'] + pd.Timedelta(days=144) # adding 144 days to 1st mrc to determine 4th mr\n",
        "    mrc4_df['4th MRC Payment'] = mrc4_df['4th MRC Payment'].dt.strftime('%m/%d/%Y')\n",
        "    mrc4_df['1st MRC Payment'] = mrc4_df['1st MRC Payment'].dt.strftime('%m/%d/%Y')\n",
        "\n",
        "    processed_dfs[f'{target_month}_2nd MRC'] = mrc2_df\n",
        "    processed_dfs[f'{target_month}_3rd MRC'] = mrc3_df\n",
        "    processed_dfs[f'{target_month}_4th MRC'] = mrc4_df\n",
        "\n",
        "    return processed_dfs"
      ]
    },
    {
      "cell_type": "code",
      "source": [
        "\n",
        "import calendar\n",
        "import re\n",
        "\n",
        "# Define the Excel writer with the desired Excel file name\n",
        "with pd.ExcelWriter('combined_mrc_sheets.xlsx', engine='xlsxwriter') as writer:\n",
        "    # Iterate over the dictionary of input data frames.\n",
        "    for file_name, dataframe in dfs.items():\n",
        "\n",
        "        # Extract month abbreviation and year from file_name\n",
        "        # Assuming filenames are like 'jul20230915.csv' or 'july20230915.csv' (where month is followed by numbers)\n",
        "        match = re.match(r\"([a-zA-Z]+)([0-9]+)\", file_name, re.I)\n",
        "        if match:\n",
        "            month_str, year_str = match.groups()\n",
        "            # Abbreviating the month\n",
        "            month_abbr = next((abbr for abbr, full in zip(calendar.month_abbr[1:], calendar.month_name[1:]) if month_str.lower() in full.lower()), month_str)\n",
        "\n",
        "            # Process the input data frame using the MRC function.\n",
        "            processed_dfs = MRC(file_name, dataframe)\n",
        "\n",
        "            # Write each processed data frame to a different sheet.\n",
        "            for sheet_name, processed_df in processed_dfs.items():\n",
        "                # Use only the month abbreviation in the sheet name\n",
        "                new_sheet_name = f\"{month_abbr}_{sheet_name.split('_')[-1]}\"\n",
        "                processed_df.to_excel(writer, sheet_name=new_sheet_name, index=False)\n",
        "\n"
      ],
      "metadata": {
        "id": "sit6b1wVX6fe"
      },
      "id": "sit6b1wVX6fe",
      "execution_count": null,
      "outputs": []
    },
    {
      "cell_type": "code",
      "source": [
        "from google.colab import files\n",
        "\n",
        "files.download('combined_mrc_sheets.xlsx')\n"
      ],
      "metadata": {
        "colab": {
          "base_uri": "https://localhost:8080/",
          "height": 17
        },
        "id": "o1R6BoaUZ-xk",
        "outputId": "59b6d0ff-7178-4928-81b9-b13f9d41c05a"
      },
      "id": "o1R6BoaUZ-xk",
      "execution_count": null,
      "outputs": [
        {
          "output_type": "display_data",
          "data": {
            "text/plain": [
              "<IPython.core.display.Javascript object>"
            ],
            "application/javascript": [
              "\n",
              "    async function download(id, filename, size) {\n",
              "      if (!google.colab.kernel.accessAllowed) {\n",
              "        return;\n",
              "      }\n",
              "      const div = document.createElement('div');\n",
              "      const label = document.createElement('label');\n",
              "      label.textContent = `Downloading \"${filename}\": `;\n",
              "      div.appendChild(label);\n",
              "      const progress = document.createElement('progress');\n",
              "      progress.max = size;\n",
              "      div.appendChild(progress);\n",
              "      document.body.appendChild(div);\n",
              "\n",
              "      const buffers = [];\n",
              "      let downloaded = 0;\n",
              "\n",
              "      const channel = await google.colab.kernel.comms.open(id);\n",
              "      // Send a message to notify the kernel that we're ready.\n",
              "      channel.send({})\n",
              "\n",
              "      for await (const message of channel.messages) {\n",
              "        // Send a message to notify the kernel that we're ready.\n",
              "        channel.send({})\n",
              "        if (message.buffers) {\n",
              "          for (const buffer of message.buffers) {\n",
              "            buffers.push(buffer);\n",
              "            downloaded += buffer.byteLength;\n",
              "            progress.value = downloaded;\n",
              "          }\n",
              "        }\n",
              "      }\n",
              "      const blob = new Blob(buffers, {type: 'application/binary'});\n",
              "      const a = document.createElement('a');\n",
              "      a.href = window.URL.createObjectURL(blob);\n",
              "      a.download = filename;\n",
              "      div.appendChild(a);\n",
              "      a.click();\n",
              "      div.remove();\n",
              "    }\n",
              "  "
            ]
          },
          "metadata": {}
        },
        {
          "output_type": "display_data",
          "data": {
            "text/plain": [
              "<IPython.core.display.Javascript object>"
            ],
            "application/javascript": [
              "download(\"download_6893941d-a6e0-457c-a1f2-9a9d8b6437cd\", \"combined_mrc_sheets.xlsx\", 14735)"
            ]
          },
          "metadata": {}
        }
      ]
    }
  ],
  "metadata": {
    "kernelspec": {
      "display_name": "Python 3 (ipykernel)",
      "language": "python",
      "name": "python3"
    },
    "language_info": {
      "codemirror_mode": {
        "name": "ipython",
        "version": 3
      },
      "file_extension": ".py",
      "mimetype": "text/x-python",
      "name": "python",
      "nbconvert_exporter": "python",
      "pygments_lexer": "ipython3",
      "version": "3.9.13"
    },
    "colab": {
      "provenance": [],
      "include_colab_link": true
    }
  },
  "nbformat": 4,
  "nbformat_minor": 5
}